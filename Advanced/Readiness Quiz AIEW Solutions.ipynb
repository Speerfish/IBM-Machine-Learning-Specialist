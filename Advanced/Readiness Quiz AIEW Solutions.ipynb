{
 "cells": [
  {
   "cell_type": "markdown",
   "metadata": {},
   "source": [
    "# Readiness Quiz - Solutions Version\n",
    "\n",
    "You are about to take the readiness quiz. The quiz is for your benefit and was designed to validate skills you should already have to be successful in this specialization. Learners should aim to answer at least 9 of the 13 questions correctly to know they are prepared for the remainder of the specialization. \n",
    "\n",
    "## Quiz Instructions\n",
    "\n",
    "Update the code blocks below per the instructions. You may use external resources such as the [Python Documentation](https://docs.python.org/3/) or answers on [Stack Overflow](https://stackoverflow.com/), but you may not copy others' code. After you have updated the code blocks, you call the relevant functions and compare the outputs with the solutions notebook which we have provided separately. We recommend working through the entire notebook before comparing with the solutions.\n"
   ]
  },
  {
   "cell_type": "markdown",
   "metadata": {},
   "source": [
    "#### Question 1\n",
    "For a given input list: [1, 2, 3, 4]\n",
    "\n",
    "Cube (element to power 3) each element and return the results as a list "
   ]
  },
  {
   "cell_type": "code",
   "execution_count": 1,
   "metadata": {},
   "outputs": [
    {
     "data": {
      "text/plain": [
       "[1, 8, 27, 64]"
      ]
     },
     "execution_count": 1,
     "metadata": {},
     "output_type": "execute_result"
    }
   ],
   "source": [
    "lst = [1,2,3,4]\n",
    "\n",
    "def get_cubed(lst):\n",
    "    '''\n",
    "    INPUT: LIST (containing numeric elements)\n",
    "    OUTPUT: LIST (cubed value of each even number in originals list)\n",
    "    \n",
    "    '''\n",
    "    return [x**3 for x in lst]\n",
    "    \n",
    "get_cubed(lst)"
   ]
  },
  {
   "cell_type": "markdown",
   "metadata": {},
   "source": [
    "#### Question 2\n",
    "For a given input list: [1,2,3,4,5,6,7]\n",
    "Inspect each number in the input list and determine if it is even\n",
    "\n",
    "Next square the even values\n",
    "\n",
    "Finally return the squared evens as a list "
   ]
  },
  {
   "cell_type": "code",
   "execution_count": 2,
   "metadata": {},
   "outputs": [
    {
     "data": {
      "text/plain": [
       "[4, 16, 36]"
      ]
     },
     "execution_count": 2,
     "metadata": {},
     "output_type": "execute_result"
    }
   ],
   "source": [
    "lst = [1,2,3,4,5,6,7]\n",
    "\n",
    "def get_squared_evens(lst):\n",
    "    '''\n",
    "    INPUT: LIST (containing numeric elements)\n",
    "    OUTPUT: LIST (squared value of each even number in originals list)\n",
    "    '''\n",
    "    \n",
    "    return [x**2 for x in lst if x%2==0]\n",
    "    \n",
    "    \n",
    "get_squared_evens(lst)"
   ]
  },
  {
   "cell_type": "markdown",
   "metadata": {},
   "source": [
    "#### Question 3\n",
    "Edit the comment below to remove anything which is not a built-in data type in Python"
   ]
  },
  {
   "cell_type": "code",
   "execution_count": 3,
   "metadata": {},
   "outputs": [
    {
     "data": {
      "text/plain": [
       "'\\n\\n    LIST\\n    BOOLEAN\\n    STRING\\n    VARCHAR\\n    INTEGER\\n    FLOAT\\n    HEAP  \\n    \\n'"
      ]
     },
     "execution_count": 3,
     "metadata": {},
     "output_type": "execute_result"
    }
   ],
   "source": [
    "'''\n",
    "\n",
    "    LIST\n",
    "    BOOLEAN\n",
    "    STRING\n",
    "    VARCHAR\n",
    "    INTEGER\n",
    "    FLOAT\n",
    "    HEAP  \n",
    "    \n",
    "'''"
   ]
  },
  {
   "cell_type": "markdown",
   "metadata": {},
   "source": [
    "Correct answers: \"HEAD\" and \"VARCHAR\" <br>\n",
    "For more information:  https://docs.python.org/3/library/stdtypes.html"
   ]
  },
  {
   "cell_type": "markdown",
   "metadata": {},
   "source": [
    "#### Question 4\n",
    "For given input lists: [a,b,c] and [1,2,3]\n",
    "\n",
    "Create a dictionary with the first list as keys and the second list as corresponding values (3 different key-value pairs)"
   ]
  },
  {
   "cell_type": "code",
   "execution_count": 4,
   "metadata": {},
   "outputs": [
    {
     "data": {
      "text/plain": [
       "{'a': 1, 'b': 2, 'c': 3}"
      ]
     },
     "execution_count": 4,
     "metadata": {},
     "output_type": "execute_result"
    }
   ],
   "source": [
    "lst1 = ['a', 'b', 'c']\n",
    "lst2 = [1,2,3]\n",
    "\n",
    "def make_dict(lst1,lst2):\n",
    "    '''\n",
    "    INPUT: lST1, lST2\n",
    "    OUTPUT: DICT (LST1 are the keys and LST2 are the values)    \n",
    "    '''\n",
    "    \n",
    "    return {lst1[i] : lst2[i] for i in range(len(lst1))}\n",
    "\n",
    "make_dict(lst1,lst2)"
   ]
  },
  {
   "cell_type": "markdown",
   "metadata": {},
   "source": [
    "#### Question 5\n",
    "Mutable data types/collections in Python can be changed in place\n",
    "\n",
    "Immutable ones can not change in place\n",
    "\n",
    "Edit the comment below to remove any types/collections which are immutable"
   ]
  },
  {
   "cell_type": "code",
   "execution_count": 5,
   "metadata": {},
   "outputs": [
    {
     "data": {
      "text/plain": [
       "'\\n\\n    INTEGER\\n    BOOLEAN\\n    FLOAT\\n    SET\\n    COMPLEX\\n    LIST\\n    TUPLE\\n    \\n    \\n'"
      ]
     },
     "execution_count": 5,
     "metadata": {},
     "output_type": "execute_result"
    }
   ],
   "source": [
    "'''\n",
    "\n",
    "    INTEGER\n",
    "    BOOLEAN\n",
    "    FLOAT\n",
    "    SET\n",
    "    COMPLEX\n",
    "    LIST\n",
    "    TUPLE\n",
    "    \n",
    "    \n",
    "'''"
   ]
  },
  {
   "cell_type": "markdown",
   "metadata": {},
   "source": [
    "Correct answers: \"SET\" , \"LIST\"<br>\n",
    "Resource: https://docs.python.org/3/library/stdtypes.html"
   ]
  },
  {
   "cell_type": "markdown",
   "metadata": {},
   "source": [
    "#### Question 6\n",
    "For a given input list: abbcccddddeeeeeffffffggggggghhhhhhhh\n",
    "\n",
    "Return a dictionary of character counts, where each character is a key and its corresponding value the number of times it appears in the input list"
   ]
  },
  {
   "cell_type": "code",
   "execution_count": 3,
   "metadata": {},
   "outputs": [
    {
     "data": {
      "text/plain": [
       "Counter({'a': 1, 'b': 2, 'c': 3, 'd': 4, 'e': 5, 'f': 6, 'g': 7, 'h': 8})"
      ]
     },
     "execution_count": 3,
     "metadata": {},
     "output_type": "execute_result"
    }
   ],
   "source": [
    "from collections import Counter\n",
    "lst = list('abbcccddddeeeeeffffffggggggghhhhhhhh')\n",
    "\n",
    "def count_characters(lst):\n",
    "    '''\n",
    "    INPUT: STRING\n",
    "    OUTPUT: DICT (with counts of each character in input string)\n",
    "    '''\n",
    "    return Counter(lst)\n",
    "\n",
    "# A less efficient solution would involve iterating through the list and updating the dictionary accordingly:\n",
    "#my_dict={}\n",
    "#for i in lst:\n",
    "#    if i not in my_dict.keys():\n",
    "#        my_dict[i] = 1\n",
    "#    else:\n",
    "#        my_dict[i] += 1\n",
    "#print(my_dict)\n",
    "    \n",
    "\n",
    "count_characters(lst)"
   ]
  },
  {
   "cell_type": "markdown",
   "metadata": {},
   "source": [
    "#### Question 7 \n",
    "For the vector v = [2.0, -3.5, 5.1]:\n",
    "\n",
    "Find the L1 norm of v and return it as a float"
   ]
  },
  {
   "cell_type": "code",
   "execution_count": 7,
   "metadata": {},
   "outputs": [
    {
     "data": {
      "text/plain": [
       "10.6"
      ]
     },
     "execution_count": 7,
     "metadata": {},
     "output_type": "execute_result"
    }
   ],
   "source": [
    "import numpy as np\n",
    "\n",
    "v = np.array([2.0, -3.5, 5.1])\n",
    "\n",
    "def calculate_l1_norm(v):\n",
    "    '''\n",
    "    INPUT: LIST or ARRAY (containing numeric elements)\n",
    "    OUTPUT: FLOAT (L1 norm of v)\n",
    "    '''\n",
    "    return float(np.sum(np.abs(v)))\n",
    "\n",
    "calculate_l1_norm(v)"
   ]
  },
  {
   "cell_type": "markdown",
   "metadata": {},
   "source": [
    "#### Question 8\n",
    "\n",
    "Create a NumPy vector that starts at 1 and increases until 150\n",
    "\n",
    "Transform the vector into a matrix with 10 rows and 15 columns\n",
    "\n",
    "Return the sums for the 10 rows as a list. HINT: There should be ten values for the printed sum"
   ]
  },
  {
   "cell_type": "code",
   "execution_count": 8,
   "metadata": {},
   "outputs": [
    {
     "data": {
      "text/plain": [
       "array([ 120,  345,  570,  795, 1020, 1245, 1470, 1695, 1920, 2145])"
      ]
     },
     "execution_count": 8,
     "metadata": {},
     "output_type": "execute_result"
    }
   ],
   "source": [
    "import numpy as np\n",
    "\n",
    "vectorLower = 1\n",
    "vectorUpper = 151\n",
    "\n",
    "def get_vector_sum(vectorLower, vectorUpper):\n",
    "    '''\n",
    "    INPUT: Vector lower and upper bounds\n",
    "    OUTPUT: Calculated value for vector sum\n",
    "    '''\n",
    "    \n",
    "    arr1d = np.array(range(vectorLower, vectorUpper))\n",
    "    arr2d = arr1d.reshape(10, 15)\n",
    "  \n",
    "    return np.sum(arr2d, axis=1)\n",
    "\n",
    "get_vector_sum(vectorLower, vectorUpper)"
   ]
  },
  {
   "cell_type": "markdown",
   "metadata": {},
   "source": [
    "#### Question 9\n",
    "\n",
    "Create a function to test whether two ranges are mutually exclusive (i.e., they do not overlap on the real line)\n",
    "\n",
    "If the ranges are mutually exclusive your function should return TRUE, otherwise it should return FALSE\n",
    "\n",
    "Test your function on the range(1,20) and range(21,40)"
   ]
  },
  {
   "cell_type": "code",
   "execution_count": 9,
   "metadata": {},
   "outputs": [
    {
     "data": {
      "text/plain": [
       "False"
      ]
     },
     "execution_count": 9,
     "metadata": {},
     "output_type": "execute_result"
    }
   ],
   "source": [
    "range1 = range(1,20)\n",
    "range2 = range(19,40)\n",
    "\n",
    "def compare_ranges(range1, range2):\n",
    "    '''\n",
    "    INPUT: Two ranges\n",
    "    OUTPUT: Boolean value depending on the mutual exclusivity of the input ranges\n",
    "    '''\n",
    "    if (max(range1)<min(range2)) or (min(range1)>max(range2)) :\n",
    "        return True\n",
    "    return False\n",
    "    \n",
    "    \n",
    "compare_ranges(range1, range2)"
   ]
  },
  {
   "cell_type": "markdown",
   "metadata": {},
   "source": [
    "#### Question 10\n",
    "The geometric distribution is a useful tool for modeling time to event data\n",
    "\n",
    "A successful street vendor says that on average 1 out of every 10 people who walk by on the street stop to buy a taco\n",
    "\n",
    "Represent these data with a geometric distribution\n",
    "\n",
    "What is the probability that the vendor has to wait until 20 people walk buy before someone buys a taco?"
   ]
  },
  {
   "cell_type": "code",
   "execution_count": 11,
   "metadata": {},
   "outputs": [
    {
     "data": {
      "text/plain": [
       "0.013508517176729929"
      ]
     },
     "execution_count": 11,
     "metadata": {},
     "output_type": "execute_result"
    }
   ],
   "source": [
    "import scipy.stats as stats\n",
    "\n",
    "\n",
    "def geometric_distribution(p,k):\n",
    "    '''\n",
    "    INPUT: Probability of success and number of trials\n",
    "    OUTPUT: Determined probability\n",
    "    '''\n",
    "    return stats.geom.pmf(k, p)\n",
    "\n",
    "geometric_distribution(1/10, 20)"
   ]
  },
  {
   "cell_type": "markdown",
   "metadata": {},
   "source": [
    "#### Question 11\n",
    "The Poisson distribution is a useful tool for modeling count data given discrete intervals. Based on historical data the expected number of accidents at a busy intersection is 4 per month\n",
    "\n",
    "Represent these data with a Poisson distribution\n",
    "\n",
    "What is the probability of more than 7 accidents at that intersection next month?"
   ]
  },
  {
   "cell_type": "code",
   "execution_count": 12,
   "metadata": {},
   "outputs": [
    {
     "data": {
      "text/plain": [
       "0.05113361579284725"
      ]
     },
     "execution_count": 12,
     "metadata": {},
     "output_type": "execute_result"
    }
   ],
   "source": [
    "import scipy.stats as stats\n",
    "\n",
    "def poisson_distribution(mu,k):\n",
    "    '''\n",
    "    INPUT: Parameter of the Poisson distribution and number of accidents\n",
    "    OUTPUT: Determined probability\n",
    "    '''\n",
    "    return 1 - stats.poisson.cdf(k, mu)\n",
    "\n",
    "poisson_distribution(4, 7)"
   ]
  },
  {
   "cell_type": "markdown",
   "metadata": {},
   "source": [
    "#### Question 12\n",
    "The Gaussian or Normal distribution is use heavily throughout statistics and data science. Let's assume scores for this assessment have a mean of 50% and a standard deviation of 20%\n",
    "\n",
    "Represent these data with a Normal distribution\n",
    "\n",
    "What is the probability of observing a score >= 80?\n",
    "\n",
    "Use 50.0, 20.0, and 80 for your input values"
   ]
  },
  {
   "cell_type": "code",
   "execution_count": 14,
   "metadata": {},
   "outputs": [
    {
     "data": {
      "text/plain": [
       "0.06680720126885809"
      ]
     },
     "execution_count": 14,
     "metadata": {},
     "output_type": "execute_result"
    }
   ],
   "source": [
    "import scipy.stats as stats\n",
    "\n",
    "def gaussian_distribution(loc_val, scale_val, cdf_val):\n",
    "    '''\n",
    "    INPUT: loc (mean of the distribution), scale (standard deviation of the distribution), and cdf values\n",
    "    OUTPUT: determined probability\n",
    "    '''\n",
    "    return 1 - stats.norm.cdf(cdf_val, loc=loc_val, scale=scale_val)\n",
    "\n",
    "gaussian_distribution(50.0, 20.0, 80)"
   ]
  },
  {
   "cell_type": "markdown",
   "metadata": {},
   "source": [
    "#### Question 13\n",
    "\n",
    "Without using NumPy, build a function that performs matrix multiplication on a square matrix HINT: A 2X2 matrix times a 2x2 matrix should yield a 2x2 matrix"
   ]
  },
  {
   "cell_type": "code",
   "execution_count": 15,
   "metadata": {},
   "outputs": [
    {
     "data": {
      "text/plain": [
       "[[0, 0, 25], [0, 0, 30], [0, 0, 9]]"
      ]
     },
     "execution_count": 15,
     "metadata": {},
     "output_type": "execute_result"
    }
   ],
   "source": [
    "A = [[2,3,4], [6,4,2], [-1,2,0]]\n",
    "B = [[3,2,1], [2,4,5], [-3,1,2]]\n",
    "\n",
    "\n",
    "def matrix_multiplication(A,B):\n",
    "    '''\n",
    "    INPUT: LIST (of length n) OF LIST (of length n) OF INTEGERS\n",
    "    LIST (of length n) OF LIST (of length n) OF INTEGERS\n",
    "    OUTPUT: LIST OF LIST OF INTEGERS\n",
    "    (storing the product of a matrix multiplication operation)\n",
    "    Return the matrix which is the product of matrix A and matrix B\n",
    "    where A and B will be (a) integer valued (b) square matrices\n",
    "    (c) of size n-by-n (d) encoded as lists of lists, e.g.\n",
    "    A = [[2, 3, 4], [6, 4, 2], [-1, 2, 0]] corresponds to the matrix\n",
    "    | 2 3 4 |\n",
    "    | 6 4 2 |\n",
    "    |-1 2 0 |\n",
    "    '''\n",
    "    n = len(A)\n",
    "    AB = [[0 for i in range(n)] for i in range(n)]\n",
    "    for i in range(n):\n",
    "        for j in range(n):\n",
    "            abij = 0\n",
    "        for k in range(n):\n",
    "            abij += A[i][k]*B[k][j]\n",
    "        AB[i][j] = abij\n",
    "    return AB\n",
    "\n",
    "    \n",
    "matrix_multiplication(A,B)"
   ]
  }
 ],
 "metadata": {
  "kernelspec": {
   "display_name": "Python 3",
   "language": "python",
   "name": "python3"
  },
  "language_info": {
   "codemirror_mode": {
    "name": "ipython",
    "version": 3
   },
   "file_extension": ".py",
   "mimetype": "text/x-python",
   "name": "python",
   "nbconvert_exporter": "python",
   "pygments_lexer": "ipython3",
   "version": "3.7.3"
  }
 },
 "nbformat": 4,
 "nbformat_minor": 4
}
